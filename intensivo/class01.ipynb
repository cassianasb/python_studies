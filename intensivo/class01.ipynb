{
 "metadata": {
  "language_info": {
   "codemirror_mode": {
    "name": "ipython",
    "version": 3
   },
   "file_extension": ".py",
   "mimetype": "text/x-python",
   "name": "python",
   "nbconvert_exporter": "python",
   "pygments_lexer": "ipython3",
   "version": 3
  },
  "orig_nbformat": 2
 },
 "nbformat": 4,
 "nbformat_minor": 2,
 "cells": [
  {
   "cell_type": "code",
   "execution_count": null,
   "metadata": {},
   "outputs": [],
   "source": [
    "import pyautogui # automação do mouse e teclado\n",
    "import time # controla o tempo do programa\n",
    "import pyperclip # permite copiar e colar com Python\n",
    "\n",
    "pyautogui.PAUSE = 1\n",
    "\n",
    "pyautogui.alert(\"O programa vai começar. Não utilize seu computador enquanto isso!\")\n",
    "# #1 Entrar no link\n",
    "# pyautogui.press(\"win\")\n",
    "# pyautogui.write(\"firefox\")\n",
    "# pyautogui.press(\"enter\")\n",
    "pyautogui.hotkey(\"ctrl\", \"t\")\n",
    "link = \"https://drive.google.com/drive/folders/1wRTFw0sUVBjRr4hW5U9LF7DjLixRyxym\"\n",
    "pyperclip.copy(link)\n",
    "pyautogui.hotkey(\"ctrl\", \"v\")\n",
    "pyautogui.press(\"enter\")\n",
    "time.sleep(5)\n",
    "\n",
    "# #2 Entrar na pasta Aula 1\n",
    "# Usar time.sleep(5) e pyautogui.position para saber o x e y\n",
    "# pyautogui.click(935, 669, clicks=2)\n",
    "\n",
    "# #3 Download da base de vendas\n",
    "pyautogui.click(935, 669)\n",
    "pyautogui.click(935, 669)\n",
    "pyautogui.click(935, 669)\n",
    "time.sleep(10)\n"
   ]
  },
  {
   "cell_type": "code",
   "execution_count": null,
   "metadata": {},
   "outputs": [],
   "source": [
    "# #4 Calcular o faturamento e qtde de produtos vendidos\n",
    "import pandas as pd\n",
    "\n",
    "planilha - pd.read_excel(r\"C:\\Users\\kassi\\Downloads\\Vendas - Dez.xlsx\")\n",
    "# display(planilha)\n",
    "faturamento = planilha[\"Valor Final\"].sum()\n",
    "qtde_produtos = planilha[\"Quantidade\"].sum()\n"
   ]
  },
  {
   "cell_type": "code",
   "execution_count": null,
   "metadata": {},
   "outputs": [],
   "source": [
    "# #5 Entrar no e-mail\n",
    "# email \"diretoria\": cassianasbwork+qqcoisa@gmail.com\n",
    "pyautogui.hotkey(\"ctrl\", \"t\")\n",
    "link = \"https://mail.google.com/\"\n",
    "pyperclip.copy(link)\n",
    "pyautogui.hotkey(\"ctrl\", \"v\")\n",
    "pyautogui.press(\"enter\")\n",
    "time.sleep(10)\n",
    "\n",
    "# #6 Criar o email\n",
    "pyautogui.click(935, 669)\n",
    "time.sleep(5)\n",
    "\n",
    "pyautogui.write(\"cassianasbwork+teste@gmail.com\")\n",
    "pyautogui.press(\"tab\")\n",
    "\n",
    "subject = \"Relatório de Vendas\"\n",
    "pyautogui.press(\"tab\")\n",
    "pyperclip.copy(subject)\n",
    "pyautogui.hotkey(\"ctrl\", \"v\")\n",
    "\n",
    "pyautogui.press(\"tab\")\n",
    "text = f\"\"\"\n",
    "Prezados, bom dia\n",
    "\n",
    "O faturamento foi: R$ {faturamento:,.2f}\n",
    "A quantidade de produtos foi {qtde_produtos:,}\n",
    "\n",
    "Abs\n",
    "\"\"\"\n",
    "pyperclip.copy(text)\n",
    "pyautogui.hotkey(\"ctrl\", \"v\")\n",
    "# #7 Enviar o email\n",
    "#pyautogui.click(935, 669)\n",
    "pyautogui.hotkey(\"ctrl\", \"enter\")\n",
    "pyautogui.alert(\"Fim da execução do programa. Pode utilizar o computador normalmente.\")"
   ]
  },
  {
   "cell_type": "code",
   "execution_count": null,
   "metadata": {},
   "outputs": [],
   "source": [
    "time.sleep(5)\n",
    "pyautogui.position()"
   ]
  }
 ]
}