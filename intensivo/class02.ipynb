{
 "metadata": {
  "language_info": {
   "codemirror_mode": {
    "name": "ipython",
    "version": 3
   },
   "file_extension": ".py",
   "mimetype": "text/x-python",
   "name": "python",
   "nbconvert_exporter": "python",
   "pygments_lexer": "ipython3",
   "version": 3
  },
  "orig_nbformat": 2
 },
 "nbformat": 4,
 "nbformat_minor": 2,
 "cells": [
  {
   "cell_type": "code",
   "execution_count": null,
   "metadata": {},
   "outputs": [],
   "source": [
    "# #1 Importar Dados\n",
    "import pandas as pd\n",
    "\n",
    "clients = pd.read_csv(r\"C:\\Users\\kassi\\Downloads\\telecom_users.csv\")\n",
    "# #2 Visualizar a base de dados para entender o que temos disponível\n",
    "clients = clients.drop(\"Unnamed:0\", axis=1)\n",
    "display(clients)\n",
    "display(clients.columns)\n",
    "# #3 Tratamento de Dados\n",
    "print(clients.info()) # verificar problemas de tipos de informacao erradas e valores vazios\n",
    "clients[\"TotalGasto\"] = pd.to_numeric(clients[\"TotalGasto\"], errors=\"coerce\")\n",
    "clients = clients.dropna(how=\"all\", axis=1)\n",
    "clients = clients.dropna(how=\"any\", axis=0)\n",
    "# #4 Olhar como estão distribuidos os dados (cancelamentos)\n",
    "display(clients[\"Churn\"].value_counts())\n",
    "display(clients[\"Churn\"].value_counts(normalized=True).map(\"{:.2%}\".format))\n",
    "\n",
    "# #5 Fazer analise das causas\n",
    "#instalar via prompt do anaconda o plotly\n",
    "import plotly.express as px\n",
    "\n",
    "for column in clients:\n",
    "    graph = px.histogram(clients, x=column, color=\"Churn\")\n",
    "    graph.show()\n"
   ]
  }
 ]
}